{
 "cells": [
  {
   "cell_type": "code",
   "execution_count": 1,
   "outputs": [],
   "source": [
    "import pandas as pd\n",
    "from IPython.display import Markdown, display\n",
    "from langchain_experimental.agents.agent_toolkits import create_pandas_dataframe_agent\n",
    "from langchain.chat_models import ChatOpenAI\n",
    "from langchain.llms import OpenAI\n",
    "from langchain.agents import load_tools, initialize_agent\n",
    "import os"
   ],
   "metadata": {
    "collapsed": false,
    "ExecuteTime": {
     "end_time": "2023-11-23T23:13:48.904334Z",
     "start_time": "2023-11-23T23:13:47.639422Z"
    }
   },
   "id": "f7918b4ed9747346"
  },
  {
   "cell_type": "code",
   "execution_count": 2,
   "outputs": [],
   "source": [
    "from langchain.agents import AgentExecutor, Tool, ZeroShotAgent\n",
    "from langchain.chains import LLMChain\n",
    "from langchain.llms import OpenAI\n",
    "from langchain.memory import ConversationBufferMemory\n",
    "from langchain.utilities import GoogleSearchAPIWrapper"
   ],
   "metadata": {
    "collapsed": false,
    "ExecuteTime": {
     "end_time": "2023-11-23T23:13:48.909762Z",
     "start_time": "2023-11-23T23:13:48.904654Z"
    }
   },
   "id": "94c7b721cbaed03e"
  },
  {
   "cell_type": "code",
   "execution_count": 3,
   "outputs": [],
   "source": [
    "os.environ[\"OPENAI_API_KEY\"] = open(\"OPENAI_API_KEY\",'r').read()"
   ],
   "metadata": {
    "collapsed": false,
    "ExecuteTime": {
     "end_time": "2023-11-23T23:13:48.909920Z",
     "start_time": "2023-11-23T23:13:48.907276Z"
    }
   },
   "id": "88c1547058c0ed95"
  },
  {
   "cell_type": "code",
   "execution_count": 4,
   "outputs": [],
   "source": [
    "data = pd.read_csv('titanic.csv')"
   ],
   "metadata": {
    "collapsed": false,
    "ExecuteTime": {
     "end_time": "2023-11-23T23:13:48.915013Z",
     "start_time": "2023-11-23T23:13:48.910832Z"
    }
   },
   "id": "cef8809b20896b85"
  },
  {
   "cell_type": "code",
   "execution_count": 5,
   "outputs": [
    {
     "data": {
      "text/plain": "   PassengerId  Survived  Pclass  \\\n0            1         0       3   \n1            2         1       1   \n2            3         1       3   \n3            4         1       1   \n4            5         0       3   \n\n                                                Name     Sex   Age  SibSp  \\\n0                            Braund, Mr. Owen Harris    male  22.0      1   \n1  Cumings, Mrs. John Bradley (Florence Briggs Th...  female  38.0      1   \n2                             Heikkinen, Miss. Laina  female  26.0      0   \n3       Futrelle, Mrs. Jacques Heath (Lily May Peel)  female  35.0      1   \n4                           Allen, Mr. William Henry    male  35.0      0   \n\n   Parch            Ticket     Fare Cabin Embarked  \n0      0         A/5 21171   7.2500   NaN        S  \n1      0          PC 17599  71.2833   C85        C  \n2      0  STON/O2. 3101282   7.9250   NaN        S  \n3      0            113803  53.1000  C123        S  \n4      0            373450   8.0500   NaN        S  ",
      "text/html": "<div>\n<style scoped>\n    .dataframe tbody tr th:only-of-type {\n        vertical-align: middle;\n    }\n\n    .dataframe tbody tr th {\n        vertical-align: top;\n    }\n\n    .dataframe thead th {\n        text-align: right;\n    }\n</style>\n<table border=\"1\" class=\"dataframe\">\n  <thead>\n    <tr style=\"text-align: right;\">\n      <th></th>\n      <th>PassengerId</th>\n      <th>Survived</th>\n      <th>Pclass</th>\n      <th>Name</th>\n      <th>Sex</th>\n      <th>Age</th>\n      <th>SibSp</th>\n      <th>Parch</th>\n      <th>Ticket</th>\n      <th>Fare</th>\n      <th>Cabin</th>\n      <th>Embarked</th>\n    </tr>\n  </thead>\n  <tbody>\n    <tr>\n      <th>0</th>\n      <td>1</td>\n      <td>0</td>\n      <td>3</td>\n      <td>Braund, Mr. Owen Harris</td>\n      <td>male</td>\n      <td>22.0</td>\n      <td>1</td>\n      <td>0</td>\n      <td>A/5 21171</td>\n      <td>7.2500</td>\n      <td>NaN</td>\n      <td>S</td>\n    </tr>\n    <tr>\n      <th>1</th>\n      <td>2</td>\n      <td>1</td>\n      <td>1</td>\n      <td>Cumings, Mrs. John Bradley (Florence Briggs Th...</td>\n      <td>female</td>\n      <td>38.0</td>\n      <td>1</td>\n      <td>0</td>\n      <td>PC 17599</td>\n      <td>71.2833</td>\n      <td>C85</td>\n      <td>C</td>\n    </tr>\n    <tr>\n      <th>2</th>\n      <td>3</td>\n      <td>1</td>\n      <td>3</td>\n      <td>Heikkinen, Miss. Laina</td>\n      <td>female</td>\n      <td>26.0</td>\n      <td>0</td>\n      <td>0</td>\n      <td>STON/O2. 3101282</td>\n      <td>7.9250</td>\n      <td>NaN</td>\n      <td>S</td>\n    </tr>\n    <tr>\n      <th>3</th>\n      <td>4</td>\n      <td>1</td>\n      <td>1</td>\n      <td>Futrelle, Mrs. Jacques Heath (Lily May Peel)</td>\n      <td>female</td>\n      <td>35.0</td>\n      <td>1</td>\n      <td>0</td>\n      <td>113803</td>\n      <td>53.1000</td>\n      <td>C123</td>\n      <td>S</td>\n    </tr>\n    <tr>\n      <th>4</th>\n      <td>5</td>\n      <td>0</td>\n      <td>3</td>\n      <td>Allen, Mr. William Henry</td>\n      <td>male</td>\n      <td>35.0</td>\n      <td>0</td>\n      <td>0</td>\n      <td>373450</td>\n      <td>8.0500</td>\n      <td>NaN</td>\n      <td>S</td>\n    </tr>\n  </tbody>\n</table>\n</div>"
     },
     "execution_count": 5,
     "metadata": {},
     "output_type": "execute_result"
    }
   ],
   "source": [
    "data.head()"
   ],
   "metadata": {
    "collapsed": false,
    "ExecuteTime": {
     "end_time": "2023-11-23T23:13:48.924998Z",
     "start_time": "2023-11-23T23:13:48.917100Z"
    }
   },
   "id": "46130beff830228d"
  },
  {
   "cell_type": "code",
   "execution_count": 6,
   "outputs": [
    {
     "data": {
      "text/plain": "(891, 12)"
     },
     "execution_count": 6,
     "metadata": {},
     "output_type": "execute_result"
    }
   ],
   "source": [
    "data.shape"
   ],
   "metadata": {
    "collapsed": false,
    "ExecuteTime": {
     "end_time": "2023-11-23T23:13:48.930340Z",
     "start_time": "2023-11-23T23:13:48.924947Z"
    }
   },
   "id": "8eeb1255cf21ec90"
  },
  {
   "cell_type": "code",
   "execution_count": 11,
   "outputs": [],
   "source": [
    "memory = ConversationBufferMemory(memory_key=\"chat_history\")"
   ],
   "metadata": {
    "collapsed": false,
    "ExecuteTime": {
     "end_time": "2023-11-23T23:15:05.972787Z",
     "start_time": "2023-11-23T23:15:05.963605Z"
    }
   },
   "id": "3c7791f4e71ac2b5"
  },
  {
   "cell_type": "code",
   "execution_count": 18,
   "outputs": [],
   "source": [
    "chayGPTAgent = create_pandas_dataframe_agent(\n",
    "    ChatOpenAI(model_name='gpt-4'),\n",
    "    df=data,\n",
    "    verbose=True,\n",
    "    agent_executor_kwargs={\"memory\": memory}\n",
    "\n",
    ")"
   ],
   "metadata": {
    "collapsed": false,
    "ExecuteTime": {
     "end_time": "2023-11-23T23:18:43.155451Z",
     "start_time": "2023-11-23T23:18:43.108946Z"
    }
   },
   "id": "f46478cd105a5b82"
  },
  {
   "cell_type": "code",
   "execution_count": 7,
   "outputs": [
    {
     "data": {
      "text/plain": "<IPython.core.display.Markdown object>",
      "text/markdown": "\nYou are working with a pandas dataframe in Python. The name of the dataframe is `df`.\nYou should use the tools below to answer the question posed of you:\n\npython_repl_ast: A Python shell. Use this to execute python commands. Input should be a valid python command. When using this tool, sometimes output is abbreviated - make sure it does not look abbreviated before using it in your answer.\n\nUse the following format:\n\nQuestion: the input question you must answer\nThought: you should always think about what to do\nAction: the action to take, should be one of [python_repl_ast]\nAction Input: the input to the action\nObservation: the result of the action\n... (this Thought/Action/Action Input/Observation can repeat N times)\nThought: I now know the final answer\nFinal Answer: the final answer to the original input question\n\n\nThis is the result of `print(df.head())`:\n{df_head}\n\nBegin!\nQuestion: {input}\n{agent_scratchpad}"
     },
     "execution_count": 7,
     "metadata": {},
     "output_type": "execute_result"
    }
   ],
   "source": [
    "Markdown(chayGPTAgent.agent.llm_chain.prompt.template)   "
   ],
   "metadata": {
    "collapsed": false,
    "ExecuteTime": {
     "end_time": "2023-11-23T16:52:12.006195Z",
     "start_time": "2023-11-23T16:52:11.999705Z"
    }
   },
   "id": "6d8a69a8ac05dad9"
  },
  {
   "cell_type": "code",
   "execution_count": 19,
   "outputs": [
    {
     "name": "stdout",
     "output_type": "stream",
     "text": [
      "\n",
      "\n",
      "\u001B[1m> Entering new AgentExecutor chain...\u001B[0m\n",
      "\u001B[32;1m\u001B[1;3mThought: To find the number of rows in a dataframe, we can use the shape attribute, which returns a tuple representing the dimensionality of the DataFrame. The first element of the tuple is the number of rows.\n",
      "Action: python_repl_ast\n",
      "Action Input: df.shape[0]\u001B[0m\n",
      "Observation: \u001B[36;1m\u001B[1;3m891\u001B[0m\n",
      "Thought:\u001B[32;1m\u001B[1;3mThe dataset contains 891 rows.\n",
      "Final Answer: 891\u001B[0m\n",
      "\n",
      "\u001B[1m> Finished chain.\u001B[0m\n"
     ]
    },
    {
     "data": {
      "text/plain": "'891'"
     },
     "execution_count": 19,
     "metadata": {},
     "output_type": "execute_result"
    }
   ],
   "source": [
    "chayGPTAgent.run('How many rows does this dataset contain ?')"
   ],
   "metadata": {
    "collapsed": false,
    "ExecuteTime": {
     "end_time": "2023-11-23T23:18:57.467358Z",
     "start_time": "2023-11-23T23:18:53.457306Z"
    }
   },
   "id": "e6e4c0585c59bbce"
  },
  {
   "cell_type": "code",
   "execution_count": 20,
   "outputs": [
    {
     "name": "stdout",
     "output_type": "stream",
     "text": [
      "\n",
      "\n",
      "\u001B[1m> Entering new AgentExecutor chain...\u001B[0m\n",
      "\u001B[32;1m\u001B[1;3mThought: To identify the oldest passengers, I need to sort the dataframe by the 'Age' column in descending order.\n",
      "Action: python_repl_ast\n",
      "Action Input: df.sort_values('Age', ascending=False).head()\u001B[0m\n",
      "Observation: \u001B[36;1m\u001B[1;3m     PassengerId  Survived  Pclass                                  Name  \\\n",
      "630          631         1       1  Barkworth, Mr. Algernon Henry Wilson   \n",
      "851          852         0       3                   Svensson, Mr. Johan   \n",
      "493          494         0       1               Artagaveytia, Mr. Ramon   \n",
      "96            97         0       1             Goldschmidt, Mr. George B   \n",
      "116          117         0       3                  Connors, Mr. Patrick   \n",
      "\n",
      "      Sex   Age  SibSp  Parch    Ticket     Fare Cabin Embarked  \n",
      "630  male  80.0      0      0     27042  30.0000   A23        S  \n",
      "851  male  74.0      0      0    347060   7.7750   NaN        S  \n",
      "493  male  71.0      0      0  PC 17609  49.5042   NaN        C  \n",
      "96   male  71.0      0      0  PC 17754  34.6542    A5        C  \n",
      "116  male  70.5      0      0    370369   7.7500   NaN        Q  \u001B[0m\n",
      "Thought:\u001B[32;1m\u001B[1;3mThe oldest passengers are Barkworth, Mr. Algernon Henry Wilson aged 80, Svensson, Mr. Johan aged 74, Artagaveytia, Mr. Ramon and Goldschmidt, Mr. George B both aged 71, and Connors, Mr. Patrick aged 70.5.\n",
      "Final Answer: Les passagers les plus âgés sont Barkworth, Mr. Algernon Henry Wilson âgé de 80 ans, Svensson, Mr. Johan âgé de 74 ans, Artagaveytia, Mr. Ramon et Goldschmidt, Mr. George B tous deux âgés de 71 ans, et Connors, Mr. Patrick âgé de 70,5 ans.\u001B[0m\n",
      "\n",
      "\u001B[1m> Finished chain.\u001B[0m\n"
     ]
    },
    {
     "data": {
      "text/plain": "'Les passagers les plus âgés sont Barkworth, Mr. Algernon Henry Wilson âgé de 80 ans, Svensson, Mr. Johan âgé de 74 ans, Artagaveytia, Mr. Ramon et Goldschmidt, Mr. George B tous deux âgés de 71 ans, et Connors, Mr. Patrick âgé de 70,5 ans.'"
     },
     "execution_count": 20,
     "metadata": {},
     "output_type": "execute_result"
    }
   ],
   "source": [
    "prompt = ('Qui sont les passagers les plus vieux ? ')\n",
    "chayGPTAgent.run(prompt)"
   ],
   "metadata": {
    "collapsed": false,
    "ExecuteTime": {
     "end_time": "2023-11-23T23:19:12.922754Z",
     "start_time": "2023-11-23T23:19:03.749227Z"
    }
   },
   "id": "a77226525b806a4c"
  },
  {
   "cell_type": "code",
   "execution_count": 21,
   "outputs": [
    {
     "name": "stdout",
     "output_type": "stream",
     "text": [
      "\n",
      "\n",
      "\u001B[1m> Entering new AgentExecutor chain...\u001B[0m\n",
      "\u001B[32;1m\u001B[1;3mThought: The question is in French and it translates to \"Did they survive?\". It seems like the question is asking for the survival status of the passengers in the dataframe. However, the question is too vague as it doesn't specify which passengers it's referring to. We can check the unique values in the 'Survived' column to understand the data better. \n",
      "\n",
      "Action: python_repl_ast\n",
      "Action Input: df['Survived'].unique()\u001B[0m\n",
      "Observation: \u001B[36;1m\u001B[1;3m[0 1]\u001B[0m\n",
      "Thought:\u001B[32;1m\u001B[1;3mThe 'Survived' column contains two unique values: 0 and 1. This suggests that the data is binary, where 1 likely represents survival and 0 represents non-survival. However, without specific passengers to refer to, we cannot provide a more detailed answer.\n",
      "Final Answer: The 'Survived' column indicates whether a passenger survived or not, with 1 for survival and 0 for non-survival. Without specific passenger information, we cannot provide details on individual survival.\u001B[0m\n",
      "\n",
      "\u001B[1m> Finished chain.\u001B[0m\n"
     ]
    },
    {
     "data": {
      "text/plain": "\"The 'Survived' column indicates whether a passenger survived or not, with 1 for survival and 0 for non-survival. Without specific passenger information, we cannot provide details on individual survival.\""
     },
     "execution_count": 21,
     "metadata": {},
     "output_type": "execute_result"
    }
   ],
   "source": [
    "prompt = ('on-t-il survécu ? ')\n",
    "chayGPTAgent.run(prompt)"
   ],
   "metadata": {
    "collapsed": false,
    "ExecuteTime": {
     "end_time": "2023-11-23T23:19:41.572811Z",
     "start_time": "2023-11-23T23:19:33.203902Z"
    }
   },
   "id": "5517a12326cb5e33"
  },
  {
   "cell_type": "code",
   "execution_count": null,
   "outputs": [],
   "source": [],
   "metadata": {
    "collapsed": false
   },
   "id": "1e112bf6cf2967ba"
  }
 ],
 "metadata": {
  "kernelspec": {
   "display_name": "Python 3",
   "language": "python",
   "name": "python3"
  },
  "language_info": {
   "codemirror_mode": {
    "name": "ipython",
    "version": 2
   },
   "file_extension": ".py",
   "mimetype": "text/x-python",
   "name": "python",
   "nbconvert_exporter": "python",
   "pygments_lexer": "ipython2",
   "version": "2.7.6"
  }
 },
 "nbformat": 4,
 "nbformat_minor": 5
}
